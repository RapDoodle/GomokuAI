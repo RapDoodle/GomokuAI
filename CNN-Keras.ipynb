{
 "cells": [
  {
   "cell_type": "code",
   "execution_count": 1,
   "metadata": {},
   "outputs": [],
   "source": [
    "import numpy as np\n",
    "import pandas as pd\n",
    "import keras\n",
    "from datetime import datetime\n",
    "from keras.models import Sequential\n",
    "from keras.layers import Dropout\n",
    "from keras.layers import Dense"
   ]
  },
  {
   "cell_type": "code",
   "execution_count": 2,
   "metadata": {},
   "outputs": [
    {
     "name": "stdout",
     "output_type": "stream",
     "text": [
      "pygame 2.0.0 (SDL 2.0.12, python 3.8.5)\n",
      "Hello from the pygame community. https://www.pygame.org/contribute.html\n"
     ]
    }
   ],
   "source": [
    "import common.constant as const\n",
    "from gomoku.player import Player\n",
    "from gomoku.gomoku import Gomoku\n",
    "from common.exception import AlreadyPlacedExcpetion"
   ]
  },
  {
   "cell_type": "code",
   "execution_count": 3,
   "metadata": {},
   "outputs": [],
   "source": [
    "gomoku = Gomoku()\n",
    "player1 = Player('Player 1', 'B')\n",
    "player2 = Player('Player 2', 'W')\n",
    "gomoku.start(player1, player2, render = False)"
   ]
  },
  {
   "cell_type": "code",
   "execution_count": 26,
   "metadata": {},
   "outputs": [],
   "source": [
    "# Initialising the ANN\n",
    "model = Sequential()\n",
    "\n",
    "model.add(Dense(units = 512, kernel_initializer = 'uniform', activation = 'relu', input_dim = 675))\n",
    "model.add(Dropout(rate = 0.1))\n",
    "\n",
    "model.add(Dense(units = 512, kernel_initializer = 'uniform', activation = 'relu'))\n",
    "model.add(Dropout(rate = 0.1))\n",
    "\n",
    "model.add(Dense(units = 384, kernel_initializer = 'uniform', activation = 'relu'))\n",
    "model.add(Dropout(rate = 0.1))\n",
    "\n",
    "model.add(Dense(units = 256, kernel_initializer = 'uniform', activation = 'relu'))\n",
    "model.add(Dropout(rate = 0.1))\n",
    "\n",
    "model.add(Dense(units = 225, kernel_initializer = 'uniform', activation = 'softmax'))\n",
    "\n",
    "opt = keras.optimizers.Adam(learning_rate=0.001)\n",
    "model.compile(loss = 'categorical_crossentropy', optimizer = opt)"
   ]
  },
  {
   "cell_type": "code",
   "execution_count": 27,
   "metadata": {},
   "outputs": [],
   "source": [
    "df = pd.DataFrame(columns = ['iteration', 'max_step', 'black_win_rate', 'white_win_rate', 'valid_click_rate'])"
   ]
  },
  {
   "cell_type": "code",
   "execution_count": null,
   "metadata": {
    "scrolled": true
   },
   "outputs": [
    {
     "name": "stdout",
     "output_type": "stream",
     "text": [
      "Iteration: 1/10000:\n",
      "Player 1 won! Max step: 113 Current attempt: (7, 4) Valid click rate: 0.16                          \n",
      "Iteration: 2/10000:\n",
      "Player 2 won! Max step: 120 Current attempt: (14, 7) Valid click rate: 0.21                         \n",
      "Iteration: 3/10000:\n",
      "Player 2 won! Max step: 134 Current attempt: (13, 7) Valid click rate: 0.19                         \n",
      "Iteration: 4/10000:\n",
      "Player 2 won! Max step: 150 Current attempt: (8, 1) Valid click rate: 0.18                          \n",
      "Iteration: 5/10000:\n",
      "Player 2 won! Max step: 58 Current attempt: (11, 12) Valid click rate: 0.19                         \n",
      "Iteration: 6/10000:\n",
      "Player 1 won! Max step: 115 Current attempt: (5, 10) Valid click rate: 0.18                         \n",
      "Iteration: 7/10000:\n",
      "Player 1 won! Max step: 73 Current attempt: (11, 7) Valid click rate: 0.20                          \n",
      "Iteration: 8/10000:\n",
      "Player 1 won! Max step: 77 Current attempt: (10, 13) Valid click rate: 0.19                         \n",
      "Iteration: 9/10000:\n",
      "Player 1 won! Max step: 79 Current attempt: (6, 8) Valid click rate: 0.22                           \n",
      "Iteration: 10/10000:\n",
      "Player 2 won! Max step: 104 Current attempt: (12, 10) Valid click rate: 0.23                        \n",
      "Iteration: 11/10000:\n",
      "170/10000 Step: 36 Current attempt: (3, 12) Valid click rate: 0.21                                  \r"
     ]
    }
   ],
   "source": [
    "now = datetime.now()\n",
    "t_str = now.strftime(\"%Y-%m-%d %H-%M-%S\")\n",
    "\n",
    "max_iter = 10000\n",
    "max_turn = 10000\n",
    "\n",
    "black_win_count = 0\n",
    "white_win_count = 0\n",
    "\n",
    "verbose = 0\n",
    "\n",
    "for iteration in range(1, 10000):\n",
    "    \n",
    "    print('Iteration: {}/{}:'.format(iteration, max_iter))\n",
    "\n",
    "    gomoku.restart()\n",
    "    \n",
    "    turn = 'B'\n",
    "    player1.place(7, 7)\n",
    "    turn = 'W'\n",
    "    success = 0\n",
    "    valid_click_rate = 0\n",
    "\n",
    "\n",
    "    for i in range(1, max_turn):\n",
    "        if turn == 'B':\n",
    "            curr_player = player1\n",
    "            opponent_player = player2\n",
    "            \n",
    "        else:\n",
    "            curr_player = player2\n",
    "            opponent_player = player1\n",
    "        \n",
    "        X = curr_player.map_my_pieces.reshape((1, 225))\n",
    "        X = np.append(X, opponent_player.map_my_pieces.reshape((1, 225)), axis = 1)\n",
    "        X = np.append(X, curr_player.map_prev_move.reshape((1, 225)), axis = 1)\n",
    "        \n",
    "        y_pred = model.predict(X)\n",
    "        \n",
    "        # pos = y_pred.argmax()\n",
    "        pos = y_pred.argmax()\n",
    "        r = pos // 15\n",
    "        c = pos % 15\n",
    "        \n",
    "        try:\n",
    "            result = curr_player.place(r, c)\n",
    "            if result == const.PLACE_SUCCESS:\n",
    "                turn = opponent_player.color\n",
    "                success = success + 1\n",
    "                \n",
    "            elif result == const.PLACE_WIN:\n",
    "                y_reward = curr_player.map_prev_move.reshape((1, 225))\n",
    "                model.fit(X, y_reward, verbose = verbose)\n",
    "                \n",
    "                if curr_player.color == 'B':\n",
    "                    black_win_count = black_win_count + 1\n",
    "                else:\n",
    "                    white_win_count = white_win_count + 1\n",
    "                \n",
    "                break\n",
    "                \n",
    "        except AlreadyPlacedExcpetion:\n",
    "            y_reward = curr_player.map_prev_move.reshape((1, 225)) * -1\n",
    "            model.fit(X, y_reward, verbose = verbose)\n",
    "        \n",
    "        if i % 10 == 0:\n",
    "            valid_click_rate = success / i\n",
    "            print(' ' * 100, end = '\\r')\n",
    "            print('{}/{} Step: {} Current attempt: ({}, {}) Valid click rate: {:.2f}'.format(i, max_turn, success, r, c, valid_click_rate), end = '\\r')\n",
    "    \n",
    "    print(' ' * 100, end = '\\r')\n",
    "    print('{} won! Max step: {} Current attempt: ({}, {}) Valid click rate: {:.2f}'.format(curr_player.name, success, r, c, valid_click_rate))\n",
    "    \n",
    "    df.at[iteration - 1, 'iteration'] = iteration\n",
    "    df.at[iteration - 1, 'max_step'] = success\n",
    "    df.at[iteration - 1, 'black_win_rate'] = black_win_count / iteration\n",
    "    df.at[iteration - 1, 'white_win_rate'] = white_win_count / iteration\n",
    "    df.at[iteration - 1, 'valid_click_rate'] = valid_click_rate\n",
    "    \n",
    "    gomoku.save('{} {}'.format(t_str, iteration))\n",
    "    \n",
    "    if iteration % 1 == 0:\n",
    "        df.to_csv('./statistics/{}.csv'.format(t_str))"
   ]
  },
  {
   "cell_type": "code",
   "execution_count": null,
   "metadata": {},
   "outputs": [],
   "source": [
    "gomoku.save()"
   ]
  },
  {
   "cell_type": "code",
   "execution_count": 8,
   "metadata": {},
   "outputs": [
    {
     "data": {
      "text/html": [
       "<div>\n",
       "<style scoped>\n",
       "    .dataframe tbody tr th:only-of-type {\n",
       "        vertical-align: middle;\n",
       "    }\n",
       "\n",
       "    .dataframe tbody tr th {\n",
       "        vertical-align: top;\n",
       "    }\n",
       "\n",
       "    .dataframe thead th {\n",
       "        text-align: right;\n",
       "    }\n",
       "</style>\n",
       "<table border=\"1\" class=\"dataframe\">\n",
       "  <thead>\n",
       "    <tr style=\"text-align: right;\">\n",
       "      <th></th>\n",
       "      <th>iteration</th>\n",
       "      <th>max_step</th>\n",
       "      <th>black_win_rate</th>\n",
       "      <th>white_win_rate</th>\n",
       "      <th>valid_click_rate</th>\n",
       "    </tr>\n",
       "  </thead>\n",
       "  <tbody>\n",
       "    <tr>\n",
       "      <th>0</th>\n",
       "      <td>1</td>\n",
       "      <td>1</td>\n",
       "      <td>0</td>\n",
       "      <td>0</td>\n",
       "      <td>0.0001001</td>\n",
       "    </tr>\n",
       "    <tr>\n",
       "      <th>1</th>\n",
       "      <td>2</td>\n",
       "      <td>1</td>\n",
       "      <td>0</td>\n",
       "      <td>0</td>\n",
       "      <td>0.0001001</td>\n",
       "    </tr>\n",
       "    <tr>\n",
       "      <th>2</th>\n",
       "      <td>3</td>\n",
       "      <td>82</td>\n",
       "      <td>0</td>\n",
       "      <td>1</td>\n",
       "      <td>0.218919</td>\n",
       "    </tr>\n",
       "    <tr>\n",
       "      <th>3</th>\n",
       "      <td>4</td>\n",
       "      <td>107</td>\n",
       "      <td>0.25</td>\n",
       "      <td>0.75</td>\n",
       "      <td>0.246512</td>\n",
       "    </tr>\n",
       "    <tr>\n",
       "      <th>4</th>\n",
       "      <td>5</td>\n",
       "      <td>173</td>\n",
       "      <td>0.4</td>\n",
       "      <td>0.6</td>\n",
       "      <td>0.2</td>\n",
       "    </tr>\n",
       "  </tbody>\n",
       "</table>\n",
       "</div>"
      ],
      "text/plain": [
       "  iteration max_step black_win_rate white_win_rate valid_click_rate\n",
       "0         1        1              0              0        0.0001001\n",
       "1         2        1              0              0        0.0001001\n",
       "2         3       82              0              1         0.218919\n",
       "3         4      107           0.25           0.75         0.246512\n",
       "4         5      173            0.4            0.6              0.2"
      ]
     },
     "execution_count": 8,
     "metadata": {},
     "output_type": "execute_result"
    }
   ],
   "source": [
    "df.head(5)"
   ]
  },
  {
   "cell_type": "code",
   "execution_count": 16,
   "metadata": {},
   "outputs": [
    {
     "name": "stdout",
     "output_type": "stream",
     "text": [
      "hello world!\n",
      "foo\n",
      "hello world2!\n",
      "foo\n"
     ]
    }
   ],
   "source": [
    "import concurrent.futures\n",
    "\n",
    "def foo(bar):\n",
    "    print('hello {}'.format(bar))\n",
    "    return 'foo'\n",
    "\n",
    "with concurrent.futures.ThreadPoolExecutor() as executor:\n",
    "    future = executor.submit(foo, 'world!')\n",
    "    future2 = executor.submit(foo, 'world2!')\n",
    "    return_value = future.result()\n",
    "    print(return_value)\n",
    "    return_value2 = future2.result()\n",
    "    print(return_value2)"
   ]
  }
 ],
 "metadata": {
  "kernelspec": {
   "display_name": "Python 3",
   "language": "python",
   "name": "python3"
  },
  "language_info": {
   "codemirror_mode": {
    "name": "ipython",
    "version": 3
   },
   "file_extension": ".py",
   "mimetype": "text/x-python",
   "name": "python",
   "nbconvert_exporter": "python",
   "pygments_lexer": "ipython3",
   "version": "3.8.5"
  }
 },
 "nbformat": 4,
 "nbformat_minor": 4
}
