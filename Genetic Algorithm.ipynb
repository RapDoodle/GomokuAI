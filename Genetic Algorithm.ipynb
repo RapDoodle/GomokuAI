{
 "cells": [
  {
   "cell_type": "code",
   "execution_count": 1,
   "metadata": {},
   "outputs": [
    {
     "name": "stdout",
     "output_type": "stream",
     "text": [
      "pygame 2.0.0 (SDL 2.0.12, python 3.8.5)\n",
      "Hello from the pygame community. https://www.pygame.org/contribute.html\n"
     ]
    }
   ],
   "source": [
    "from nn.genetic_algorithm.layers import GAInput, GADense, GAOutput\n",
    "from nn.genetic_algorithm.model import GAModel, GASequentialModel\n",
    "from gomoku.gomoku import Gomoku\n",
    "from gomoku.player import Player\n",
    "import numpy as np\n",
    "import common.constant as const\n",
    "from common.exception import AlreadyPlacedExcpetion"
   ]
  },
  {
   "cell_type": "code",
   "execution_count": 2,
   "metadata": {},
   "outputs": [],
   "source": [
    "model = GAModel(population = 2000)\n",
    "\n",
    "model.add(GAInput(450))\n",
    "model.add(GADense(384, activation = 'tanh', use_bias = True))\n",
    "model.add(GADense(384, activation = 'tanh', use_bias = True))\n",
    "model.add(GADense(384, activation = 'tanh', use_bias = True))\n",
    "model.add(GADense(256, activation = 'tanh', use_bias = True))\n",
    "model.add(GADense(256, activation = 'tanh', use_bias = True))\n",
    "model.add(GADense(256, activation = 'tanh', use_bias = True))\n",
    "model.add(GAOutput(225, activation = 'softmax', use_bias = True))"
   ]
  },
  {
   "cell_type": "code",
   "execution_count": 3,
   "metadata": {},
   "outputs": [],
   "source": [
    "model.new_population()"
   ]
  },
  {
   "cell_type": "code",
   "execution_count": 4,
   "metadata": {},
   "outputs": [],
   "source": [
    "def cal_reward(step, win, chance):\n",
    "    return step + (win * (550 - step)) - chance"
   ]
  },
  {
   "cell_type": "code",
   "execution_count": 5,
   "metadata": {
    "scrolled": true
   },
   "outputs": [],
   "source": [
    "max_turn = 1000\n",
    "\n",
    "def play_gomoku(model, params = (True, False, 'untitled')):\n",
    "    \"\"\"Params: (set_reward, save_game, name)\n",
    "        set_reward: bool\n",
    "        save_game: bool\n",
    "        name: str\n",
    "    \"\"\"\n",
    "    gomoku = Gomoku()\n",
    "    player1 = Player('Player 1', 'B')\n",
    "    player2 = Player('Player 2', 'W')\n",
    "    gomoku.start(player1, player2, render = False)\n",
    "    \n",
    "    turn = 'B'\n",
    "    player1.place(7, 7)\n",
    "    turn = 'W'\n",
    "    step = 1\n",
    "    win = 0\n",
    "    # valid_click_rate = 0\n",
    "    \n",
    "    # The model has 5 chances to backprop\n",
    "    chance = 25\n",
    "\n",
    "    for _ in range(1, max_turn):\n",
    "        if turn == 'B':\n",
    "            curr_player = player1\n",
    "            opponent_player = player2\n",
    "            \n",
    "        else:\n",
    "            curr_player = player2\n",
    "            opponent_player = player1\n",
    "        \n",
    "        X = curr_player.map_my_pieces.reshape((225, 1))\n",
    "        X = np.append(X, opponent_player.map_my_pieces.reshape((225, 1)), axis = 0)\n",
    "        \n",
    "        y_pred = model.predict(X)\n",
    "        \n",
    "        # pos = y_pred.argmax()\n",
    "        pos = y_pred.argmax()\n",
    "        r = pos // 15\n",
    "        c = pos % 15\n",
    "        \n",
    "        try:\n",
    "            result = curr_player.place(r, c)\n",
    "            step = step + 1\n",
    "            \n",
    "            if result == const.PLACE_SUCCESS:\n",
    "                turn = opponent_player.color\n",
    "                \n",
    "            elif result == const.PLACE_WIN:\n",
    "                if curr_player.color == 'B':\n",
    "                    black_win_count = black_win_count + 1\n",
    "                else:\n",
    "                    white_win_count = white_win_count + 1\n",
    "                \n",
    "                win = 1\n",
    "                \n",
    "        except AlreadyPlacedExcpetion:\n",
    "            if chance <= 0:\n",
    "                break\n",
    "            y_signal = np.zeros((225, 1))\n",
    "            model.fit(X, y_signal, learning_rate = 0.01)\n",
    "            chance = chance - 1\n",
    "            \n",
    "        if win:\n",
    "            break\n",
    "    \n",
    "    # If set reward\n",
    "    if params[0] == True:\n",
    "        model.set_reward(cal_reward(step, win, chance))\n",
    "\n",
    "    # Save game\n",
    "    if params[1] == True:\n",
    "        if params[2] is None:\n",
    "            raise Exception('name not specified')\n",
    "        gomoku.save(params[2])"
   ]
  },
  {
   "cell_type": "code",
   "execution_count": null,
   "metadata": {
    "scrolled": true
   },
   "outputs": [
    {
     "name": "stdout",
     "output_type": "stream",
     "text": [
      "Simulating: 1625/2000\r"
     ]
    }
   ],
   "source": [
    "for i in range(10000):\n",
    "    model.simulate(play_gomoku, keep_rate=0.2, mutate_rate=0.1, params = (True, False))\n",
    "    if i % 10 == 0:\n",
    "        play_gomoku(model.forest[0], params = (False, True, 'GA-2-{}-{}'.format(i+1, model.forest[0].reward)))"
   ]
  },
  {
   "cell_type": "code",
   "execution_count": null,
   "metadata": {},
   "outputs": [],
   "source": []
  }
 ],
 "metadata": {
  "kernelspec": {
   "display_name": "Python 3",
   "language": "python",
   "name": "python3"
  },
  "language_info": {
   "codemirror_mode": {
    "name": "ipython",
    "version": 3
   },
   "file_extension": ".py",
   "mimetype": "text/x-python",
   "name": "python",
   "nbconvert_exporter": "python",
   "pygments_lexer": "ipython3",
   "version": "3.8.5"
  }
 },
 "nbformat": 4,
 "nbformat_minor": 4
}
