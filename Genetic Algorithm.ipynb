{
 "cells": [
  {
   "cell_type": "code",
   "execution_count": 1,
   "metadata": {},
   "outputs": [
    {
     "name": "stdout",
     "output_type": "stream",
     "text": [
      "pygame 2.0.0 (SDL 2.0.12, python 3.8.5)\n",
      "Hello from the pygame community. https://www.pygame.org/contribute.html\n"
     ]
    }
   ],
   "source": [
    "from nn.genetic_algorithm.layers import GAInput, GADense, GAOutput\n",
    "from nn.genetic_algorithm.model import GAModel, GASequentialModel\n",
    "from gomoku.gomoku import Gomoku\n",
    "from gomoku.player import Player\n",
    "import numpy as np\n",
    "import common.constant as const\n",
    "from common.exception import AlreadyPlacedExcpetion"
   ]
  },
  {
   "cell_type": "code",
   "execution_count": 2,
   "metadata": {},
   "outputs": [],
   "source": [
    "model = GAModel(population = 2000)\n",
    "\n",
    "model.add(GAInput(450))\n",
    "model.add(GADense(384, activation = 'tanh', use_bias = True))\n",
    "model.add(GADense(384, activation = 'tanh', use_bias = True))\n",
    "model.add(GADense(384, activation = 'tanh', use_bias = True))\n",
    "model.add(GADense(256, activation = 'tanh', use_bias = True))\n",
    "model.add(GADense(256, activation = 'tanh', use_bias = True))\n",
    "model.add(GADense(256, activation = 'tanh', use_bias = True))\n",
    "model.add(GAOutput(225, activation = 'softmax', use_bias = True))"
   ]
  },
  {
   "cell_type": "code",
   "execution_count": 3,
   "metadata": {},
   "outputs": [],
   "source": [
    "model.new_population()"
   ]
  },
  {
   "cell_type": "code",
   "execution_count": 4,
   "metadata": {},
   "outputs": [],
   "source": [
    "def cal_reward(step, win):\n",
    "    return step + (win * (550 - step))"
   ]
  },
  {
   "cell_type": "code",
   "execution_count": null,
   "metadata": {
    "scrolled": true
   },
   "outputs": [
    {
     "name": "stdout",
     "output_type": "stream",
     "text": [
      "Simulating: 2000/2000\n",
      "Min 1, max 13\n",
      "Simulating: 2000/2000\n",
      "Min 1, max 15\n",
      "Simulating: 2000/2000\n",
      "Min 1, max 15\n",
      "Simulating: 2000/2000\n",
      "Min 1, max 15\n",
      "Simulating: 2000/2000\n",
      "Min 1, max 15\n",
      "Simulating: 2000/2000\n",
      "Min 1, max 15\n",
      "Simulating: 2000/2000\n",
      "Min 1, max 15\n",
      "Simulating: 2000/2000\n",
      "Min 1, max 16\n",
      "Simulating: 2000/2000\n",
      "Min 1, max 16\n",
      "Simulating: 2000/2000\n",
      "Min 1, max 16\n",
      "Simulating: 2000/2000\n",
      "Min 1, max 16\n",
      "Simulating: 2000/2000\n",
      "Min 1, max 16\n",
      "Simulating: 2000/2000\n",
      "Min 1, max 16\n",
      "Simulating: 2000/2000\n",
      "Min 1, max 16\n",
      "Simulating: 2000/2000\n",
      "Min 1, max 16\n",
      "Simulating: 2000/2000\n",
      "Min 1, max 16\n",
      "Simulating: 2000/2000\n",
      "Min 1, max 16\n",
      "Simulating: 2000/2000\n",
      "Min 1, max 16\n",
      "Simulating: 2000/2000\n",
      "Min 1, max 16\n",
      "Simulating: 2000/2000\n",
      "Min 1, max 18\n",
      "Simulating: 2000/2000\n",
      "Min 1, max 18\n",
      "Simulating: 2000/2000\n",
      "Min 1, max 18\n",
      "Simulating: 2000/2000\n",
      "Min 1, max 18\n"
     ]
    }
   ],
   "source": [
    "max_turn = 1000\n",
    "\n",
    "def play_gomoku(model, params):\n",
    "\n",
    "    gomoku = Gomoku()\n",
    "    player1 = Player('Player 1', 'B')\n",
    "    player2 = Player('Player 2', 'W')\n",
    "    gomoku.start(player1, player2, render = False)\n",
    "    \n",
    "    turn = 'B'\n",
    "    player1.place(7, 7)\n",
    "    turn = 'W'\n",
    "    step = 1\n",
    "    win = 0\n",
    "    # valid_click_rate = 0\n",
    "\n",
    "\n",
    "    for i in range(1, max_turn):\n",
    "        if turn == 'B':\n",
    "            curr_player = player1\n",
    "            opponent_player = player2\n",
    "            \n",
    "        else:\n",
    "            curr_player = player2\n",
    "            opponent_player = player1\n",
    "        \n",
    "        X = curr_player.map_my_pieces.reshape((225, 1))\n",
    "        X = np.append(X, opponent_player.map_my_pieces.reshape((225, 1)), axis = 0)\n",
    "        \n",
    "        y_pred = model.predict(X)\n",
    "        \n",
    "        # pos = y_pred.argmax()\n",
    "        pos = y_pred.argmax()\n",
    "        r = pos // 15\n",
    "        c = pos % 15\n",
    "        \n",
    "        try:\n",
    "            result = curr_player.place(r, c)\n",
    "            step = step + 1\n",
    "            \n",
    "            if result == const.PLACE_SUCCESS:\n",
    "                turn = opponent_player.color\n",
    "                \n",
    "            elif result == const.PLACE_WIN:\n",
    "                if curr_player.color == 'B':\n",
    "                    black_win_count = black_win_count + 1\n",
    "                else:\n",
    "                    white_win_count = white_win_count + 1\n",
    "                \n",
    "                win = 1\n",
    "                \n",
    "        except AlreadyPlacedExcpetion:\n",
    "            break\n",
    "            \n",
    "        # if i % 1 == 0:\n",
    "        #     valid_click_rate = step / i\n",
    "        #     print(' ' * 100, end = '\\r')\n",
    "        #     print('{}/{} Step: {} Current attempt: ({}, {}) Valid click rate: {:.2f}'.format(i, max_turn, step, r, c, valid_click_rate), end = '\\r')\n",
    "            \n",
    "        if win:\n",
    "            break\n",
    "    \n",
    "    model.set_reward(cal_reward(step, win))\n",
    "    # print('\\n', model.reward)\n",
    "    # gomoku.save('{} {}'.format(t_str, iteration))\n",
    "\n",
    "for i in range(10000):\n",
    "    model.simulate(play_gomoku, keep_rate=0.2, mutate_rate=0.2)"
   ]
  },
  {
   "cell_type": "code",
   "execution_count": null,
   "metadata": {},
   "outputs": [],
   "source": []
  }
 ],
 "metadata": {
  "kernelspec": {
   "display_name": "Python 3",
   "language": "python",
   "name": "python3"
  },
  "language_info": {
   "codemirror_mode": {
    "name": "ipython",
    "version": 3
   },
   "file_extension": ".py",
   "mimetype": "text/x-python",
   "name": "python",
   "nbconvert_exporter": "python",
   "pygments_lexer": "ipython3",
   "version": "3.8.5"
  }
 },
 "nbformat": 4,
 "nbformat_minor": 4
}
